{
 "cells": [
  {
   "cell_type": "code",
   "execution_count": 3,
   "metadata": {
    "scrolled": true
   },
   "outputs": [
    {
     "name": "stdout",
     "output_type": "stream",
     "text": [
      "   *   \n",
      "  ***  \n",
      " ***** \n",
      "*******\n",
      "   *   \n",
      "   *   \n"
     ]
    }
   ],
   "source": [
    "picture=[\n",
    "    [0,0,0,1,0,0,0],\n",
    "    [0,0,1,1,1,0,0],\n",
    "    [0,1,1,1,1,1,0],\n",
    "    [1,1,1,1,1,1,1],\n",
    "    [0,0,0,1,0,0,0],\n",
    "    [0,0,0,1,0,0,0]\n",
    "]\n",
    "for item in picture:\n",
    "    for x in item:\n",
    "        \n",
    "        if x == 0:\n",
    "            print(' ',end='')\n",
    "        else:\n",
    "            print('*',end='')\n",
    "    print('')"
   ]
  },
  {
   "cell_type": "markdown",
   "metadata": {},
   "source": [
    "# Exercise\n",
    "Find duplicates"
   ]
  },
  {
   "cell_type": "code",
   "execution_count": 7,
   "metadata": {
    "scrolled": false
   },
   "outputs": [
    {
     "ename": "SyntaxError",
     "evalue": "invalid syntax (<ipython-input-7-e1afec140197>, line 2)",
     "output_type": "error",
     "traceback": [
      "\u001b[0;36m  File \u001b[0;32m\"<ipython-input-7-e1afec140197>\"\u001b[0;36m, line \u001b[0;32m2\u001b[0m\n\u001b[0;31m    lists= ['hadiul','hadiul','mariya'])\u001b[0m\n\u001b[0m                                       ^\u001b[0m\n\u001b[0;31mSyntaxError\u001b[0m\u001b[0;31m:\u001b[0m invalid syntax\n"
     ]
    }
   ],
   "source": [
    "#my_list=['a','b','c','d','d','a','e']\n",
    "lists= ['hadiul','hadiul','mariya'])\n",
    "unique_item=''\n",
    "\n",
    "duplicate_item=''\n",
    "\n",
    "for item in lists:\n",
    "    #print(item)\n",
    "    if item in unique_item:\n",
    "        duplicate_item +=item\n",
    "        print(duplicate_item)\n",
    "    else:\n",
    "        print(unique_item)\n",
    "        \n",
    "    print(duplicate_item)\n",
    "    \n",
    "        "
   ]
  },
  {
   "cell_type": "code",
   "execution_count": 43,
   "metadata": {},
   "outputs": [
    {
     "name": "stdout",
     "output_type": "stream",
     "text": [
      "['d', 'a']\n"
     ]
    }
   ],
   "source": [
    "my_list=['a','b','c','d','d','a','e']\n",
    "\n",
    "unique_item=[]\n",
    "\n",
    "duplicate_item=[]\n",
    "\n",
    "for item in my_list:\n",
    "    if item in unique_item:\n",
    "        duplicate_item.append(item)\n",
    "        \n",
    "    else:\n",
    "        \n",
    "        unique_item.append(item)\n",
    "#print(unique_item)\n",
    "print(duplicate_item)"
   ]
  }
 ],
 "metadata": {
  "kernelspec": {
   "display_name": "Python 3",
   "language": "python",
   "name": "python3"
  },
  "language_info": {
   "codemirror_mode": {
    "name": "ipython",
    "version": 3
   },
   "file_extension": ".py",
   "mimetype": "text/x-python",
   "name": "python",
   "nbconvert_exporter": "python",
   "pygments_lexer": "ipython3",
   "version": "3.7.3"
  }
 },
 "nbformat": 4,
 "nbformat_minor": 2
}
