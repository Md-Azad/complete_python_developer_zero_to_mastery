{
 "cells": [
  {
   "cell_type": "code",
   "execution_count": 1,
   "metadata": {
    "scrolled": true
   },
   "outputs": [
    {
     "name": "stdout",
     "output_type": "stream",
     "text": [
      "h\n",
      "i\n",
      ",\n",
      " \n",
      "h\n",
      "o\n",
      "w\n",
      " \n",
      "a\n",
      "r\n",
      "e\n",
      " \n",
      "y\n",
      "o\n",
      "u\n",
      "?\n"
     ]
    }
   ],
   "source": [
    "for i in \"hi, how are you?\":\n",
    "    print(i)"
   ]
  },
  {
   "cell_type": "code",
   "execution_count": 2,
   "metadata": {
    "scrolled": true
   },
   "outputs": [
    {
     "name": "stdout",
     "output_type": "stream",
     "text": [
      "1\n",
      "a\n",
      "b\n",
      "10\n"
     ]
    }
   ],
   "source": [
    "# for loop in list.\n",
    "\n",
    "list=[1,'a','b',10]\n",
    "for items in list:\n",
    "    print(items)"
   ]
  },
  {
   "cell_type": "code",
   "execution_count": 3,
   "metadata": {
    "scrolled": true
   },
   "outputs": [
    {
     "name": "stdout",
     "output_type": "stream",
     "text": [
      "1\n",
      "2\n",
      "b\n"
     ]
    }
   ],
   "source": [
    "my_tuple={1,2,'b'}\n",
    "for x in my_tuple:\n",
    "    print(x)"
   ]
  },
  {
   "cell_type": "code",
   "execution_count": 4,
   "metadata": {
    "scrolled": true
   },
   "outputs": [
    {
     "name": "stdout",
     "output_type": "stream",
     "text": [
      "1\n",
      "2\n",
      "b\n"
     ]
    }
   ],
   "source": [
    "my_set=(1,2,'b')\n",
    "for i in my_set:\n",
    "    print(i)"
   ]
  },
  {
   "cell_type": "markdown",
   "metadata": {},
   "source": [
    "# Loop with Dictionary"
   ]
  },
  {
   "cell_type": "code",
   "execution_count": 5,
   "metadata": {
    "scrolled": true
   },
   "outputs": [
    {
     "name": "stdout",
     "output_type": "stream",
     "text": [
      "a\n",
      "b\n"
     ]
    }
   ],
   "source": [
    "dictionary={\n",
    "    'a':1,\n",
    "    'b':2\n",
    "}\n",
    "for y in dictionary:\n",
    "    print(y)"
   ]
  },
  {
   "cell_type": "markdown",
   "metadata": {},
   "source": [
    "# Various way of using loop with dictionary"
   ]
  },
  {
   "cell_type": "code",
   "execution_count": 13,
   "metadata": {},
   "outputs": [
    {
     "name": "stdout",
     "output_type": "stream",
     "text": [
      "('name', 'Azad')\n",
      "('age', 27)\n",
      "('can_swim', False)\n",
      "Azad\n",
      "27\n",
      "False\n",
      "name\n",
      "age\n",
      "can_swim\n",
      "name Azad\n",
      "age 27\n",
      "can_swim False\n",
      "name Azad\n",
      "age 27\n",
      "can_swim False\n"
     ]
    }
   ],
   "source": [
    "user={\n",
    "    'name':'Azad',\n",
    "    'age':27,\n",
    "    'can_swim':False\n",
    "}\n",
    "\n",
    "for item in user.items():\n",
    "    print(item)\n",
    "    \n",
    "for item in user.values(): # if we want only values .\n",
    "    print(item)\n",
    "    \n",
    "for item in user.keys(): # if we want only keys.\n",
    "    print(item)\n",
    "    \n",
    "for item in user.items():\n",
    "    keys,values=item\n",
    "    \n",
    "    print(keys,values)\n",
    "    \n",
    "    \n",
    "for keys,values in user.items():\n",
    "    print(keys,values)\n",
    "    \n",
    "    "
   ]
  },
  {
   "cell_type": "markdown",
   "metadata": {},
   "source": [
    "# Nested loop"
   ]
  },
  {
   "cell_type": "code",
   "execution_count": 7,
   "metadata": {
    "scrolled": true
   },
   "outputs": [
    {
     "name": "stdout",
     "output_type": "stream",
     "text": [
      "1 a\n",
      "1 b\n",
      "1 c\n",
      "2 a\n",
      "2 b\n",
      "2 c\n",
      "3 a\n",
      "3 b\n",
      "3 c\n"
     ]
    }
   ],
   "source": [
    "for x in [1,2,3]:\n",
    "    for y in ['a','b','c']:\n",
    "        print(x,y)"
   ]
  },
  {
   "cell_type": "markdown",
   "metadata": {},
   "source": [
    "# Loop Exercise"
   ]
  },
  {
   "cell_type": "code",
   "execution_count": 21,
   "metadata": {
    "scrolled": true
   },
   "outputs": [
    {
     "name": "stdout",
     "output_type": "stream",
     "text": [
      "sum of my list elements is : 55.\n"
     ]
    }
   ],
   "source": [
    "my_list = [1,2,3,4,5,6,7,8,9,10]\n",
    "\n",
    "counter = 0\n",
    "\n",
    "for item in my_list:\n",
    "    counter=counter+item\n",
    "    \n",
    "print(f'sum of my list elements is : {counter}.')"
   ]
  },
  {
   "cell_type": "markdown",
   "metadata": {},
   "source": [
    "# Create  list using loop"
   ]
  },
  {
   "cell_type": "code",
   "execution_count": 3,
   "metadata": {
    "scrolled": true
   },
   "outputs": [
    {
     "name": "stdout",
     "output_type": "stream",
     "text": [
      "[0, 1, 2, 3, 4, 5, 6, 7, 8, 9]\n",
      "[0, 1, 2, 3, 4, 5, 6, 7, 8, 9]\n"
     ]
    }
   ],
   "source": [
    "for x in range(2):\n",
    "    print(list(range(10)))"
   ]
  },
  {
   "cell_type": "code",
   "execution_count": 3,
   "metadata": {},
   "outputs": [
    {
     "name": "stdout",
     "output_type": "stream",
     "text": [
      "26\n"
     ]
    }
   ],
   "source": [
    "test=[1,2,3,5,5,5,5]\n",
    "total=0\n",
    "for i in test:\n",
    "    total=total+i\n",
    "print(total)"
   ]
  }
 ],
 "metadata": {
  "kernelspec": {
   "display_name": "Python 3",
   "language": "python",
   "name": "python3"
  },
  "language_info": {
   "codemirror_mode": {
    "name": "ipython",
    "version": 3
   },
   "file_extension": ".py",
   "mimetype": "text/x-python",
   "name": "python",
   "nbconvert_exporter": "python",
   "pygments_lexer": "ipython3",
   "version": "3.7.3"
  }
 },
 "nbformat": 4,
 "nbformat_minor": 2
}
