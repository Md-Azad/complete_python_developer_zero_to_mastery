{
 "cells": [
  {
   "cell_type": "markdown",
   "metadata": {},
   "source": [
    "# Conditional Logics\n"
   ]
  },
  {
   "cell_type": "code",
   "execution_count": 2,
   "metadata": {
    "scrolled": true
   },
   "outputs": [
    {
     "name": "stdout",
     "output_type": "stream",
     "text": [
      "enter your username : \n",
      "enter your password : \n",
      "you can not keep empty username or password!\n"
     ]
    }
   ],
   "source": [
    "username=input(\"enter your username : \")\n",
    "password=input('enter your password : ')\n",
    "\n",
    "if username and password:\n",
    "    print('you have succesfully registered')\n",
    "else:\n",
    "    print('you can not keep empty username or password!')"
   ]
  },
  {
   "cell_type": "markdown",
   "metadata": {},
   "source": [
    "# Ternary Operator\n",
    "\n",
    "Another way to use if else condition,when has boolean value."
   ]
  },
  {
   "cell_type": "code",
   "execution_count": 4,
   "metadata": {
    "scrolled": true
   },
   "outputs": [
    {
     "name": "stdout",
     "output_type": "stream",
     "text": [
      "messageing allowed\n",
      "not allowed to messgeing.\n"
     ]
    }
   ],
   "source": [
    "is_friend=True\n",
    "\n",
    "can_message= \"messageing allowed\" if is_friend else \"not allowed to messgeing.\"\n",
    "print(can_message)\n",
    "\n",
    "is_friend=False\n",
    "\n",
    "can_message= \"messageing allowed\" if is_friend else \"not allowed to messgeing.\"\n",
    "print(can_message)"
   ]
  },
  {
   "cell_type": "markdown",
   "metadata": {},
   "source": [
    "# short circuiting / OR operator"
   ]
  },
  {
   "cell_type": "code",
   "execution_count": 5,
   "metadata": {
    "scrolled": true
   },
   "outputs": [
    {
     "name": "stdout",
     "output_type": "stream",
     "text": [
      "best friend forever\n"
     ]
    }
   ],
   "source": [
    "is_friend=True\n",
    "is_user=True\n",
    "\n",
    "if is_friend or is_user:\n",
    "    print('best friend forever')"
   ]
  },
  {
   "cell_type": "code",
   "execution_count": 13,
   "metadata": {
    "scrolled": true
   },
   "outputs": [
    {
     "name": "stdout",
     "output_type": "stream",
     "text": [
      "False\n",
      "True\n",
      "False\n",
      "True\n",
      "True\n",
      "True\n"
     ]
    }
   ],
   "source": [
    "print('A'>'a')\n",
    "\n",
    "print('b'>'a')\n",
    "print('a'>'b')\n",
    "print('b'>'A')\n",
    "print('c'>'b')\n",
    "\n",
    "\n",
    "print('s'>'b')"
   ]
  },
  {
   "cell_type": "markdown",
   "metadata": {},
   "source": [
    "# Exercise"
   ]
  },
  {
   "cell_type": "code",
   "execution_count": 17,
   "metadata": {},
   "outputs": [
    {
     "name": "stdout",
     "output_type": "stream",
     "text": [
      "at least you are getting here!\n"
     ]
    }
   ],
   "source": [
    "is_magician=True\n",
    "is_expart=False\n",
    "\n",
    "if is_magician and is_expart:\n",
    "    print(\"you are a master magician\")\n",
    "\n",
    "elif is_magician and not(is_expart):\n",
    "    print(\"at least you are getting here!\")\n",
    "\n",
    "elif not(is_magician):\n",
    "    print('you need magic power')"
   ]
  }
 ],
 "metadata": {
  "kernelspec": {
   "display_name": "Python 3",
   "language": "python",
   "name": "python3"
  },
  "language_info": {
   "codemirror_mode": {
    "name": "ipython",
    "version": 3
   },
   "file_extension": ".py",
   "mimetype": "text/x-python",
   "name": "python",
   "nbconvert_exporter": "python",
   "pygments_lexer": "ipython3",
   "version": "3.7.3"
  }
 },
 "nbformat": 4,
 "nbformat_minor": 2
}
