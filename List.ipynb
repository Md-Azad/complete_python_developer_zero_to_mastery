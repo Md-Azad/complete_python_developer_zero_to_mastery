{
 "cells": [
  {
   "cell_type": "markdown",
   "metadata": {},
   "source": [
    "# List slicing"
   ]
  },
  {
   "cell_type": "code",
   "execution_count": 1,
   "metadata": {},
   "outputs": [
    {
     "data": {
      "text/plain": [
       "['notebooks', 'laptops', 'grapses', 'sunglasses', 'phone']"
      ]
     },
     "execution_count": 1,
     "metadata": {},
     "output_type": "execute_result"
    }
   ],
   "source": [
    "Amazon=[\n",
    "    'notebooks',\n",
    "    'laptops',\n",
    "    'grapses',\n",
    "    'sunglasses',\n",
    "    'phone'\n",
    "]\n",
    "Amazon"
   ]
  },
  {
   "cell_type": "code",
   "execution_count": 3,
   "metadata": {
    "scrolled": true
   },
   "outputs": [
    {
     "name": "stdout",
     "output_type": "stream",
     "text": [
      "['notebooks', 'laptops']\n",
      "['notebooks', 'laptops', 'grapses', 'sunglasses', 'phone']\n"
     ]
    }
   ],
   "source": [
    "print(Amazon[0:2])\n",
    "print(Amazon)"
   ]
  },
  {
   "cell_type": "code",
   "execution_count": 4,
   "metadata": {
    "scrolled": true
   },
   "outputs": [
    {
     "name": "stdout",
     "output_type": "stream",
     "text": [
      "['tabs', 'laptops', 'grapses', 'sunglasses', 'phone']\n"
     ]
    }
   ],
   "source": [
    "# if I want to change any item\n",
    "Amazon[0]='tabs'\n",
    "print(Amazon)\n"
   ]
  },
  {
   "cell_type": "markdown",
   "metadata": {},
   "source": [
    "# List method"
   ]
  },
  {
   "cell_type": "code",
   "execution_count": 8,
   "metadata": {
    "scrolled": true
   },
   "outputs": [
    {
     "name": "stdout",
     "output_type": "stream",
     "text": [
      "[1, 2, 3, 4, 5, 6, 8]\n"
     ]
    }
   ],
   "source": [
    "basket=[1,2,3,4,5,6]\n",
    "basket.append(8)\n",
    "print(basket)"
   ]
  },
  {
   "cell_type": "code",
   "execution_count": 10,
   "metadata": {
    "scrolled": true
   },
   "outputs": [
    {
     "name": "stdout",
     "output_type": "stream",
     "text": [
      "[44, 1, 2, 3, 4, 5, 6]\n"
     ]
    }
   ],
   "source": [
    "basket=[1,2,3,4,5,6]\n",
    "basket.insert(0,44)\n",
    "print(basket)"
   ]
  },
  {
   "cell_type": "code",
   "execution_count": 34,
   "metadata": {
    "scrolled": true
   },
   "outputs": [
    {
     "name": "stdout",
     "output_type": "stream",
     "text": [
      "610080\n",
      "488064.0\n",
      "content creator will get: 488064.0\n",
      "in taka 39045120.0 taka\n",
      "\n",
      " the amount is 390.4512 lakh\n",
      "\n",
      "the amount is :3.9045119999999995 crore\n"
     ]
    }
   ],
   "source": [
    "result=61008*10\n",
    "print(result)\n",
    "websites_revenew=(result*20)/100\n",
    "print(content_creators_get)\n",
    "\n",
    "content_creators_get=result-websites_revenew\n",
    "print('content creator will get:',content_creators_get)\n",
    "\n",
    "in_bangladeshi_curency=content_creators_get*80\n",
    "print(f'in taka {in_bangladeshi_curency} taka\\n')\n",
    "\n",
    "lakh=in_bangladeshi_curency/100000\n",
    "print(f' the amount is {lakh} lakh\\n')\n",
    "\n",
    "crore=lakh/100\n",
    "print(f'the amount is :{crore} crore')"
   ]
  },
  {
   "cell_type": "code",
   "execution_count": 35,
   "metadata": {
    "scrolled": true
   },
   "outputs": [
    {
     "name": "stdout",
     "output_type": "stream",
     "text": [
      "[1, 2, 3, 4, 5, 6, 10]\n"
     ]
    }
   ],
   "source": [
    "basket=[1,2,3,4,5,6]\n",
    "basket.extend([10])\n",
    "print(basket)"
   ]
  },
  {
   "cell_type": "code",
   "execution_count": 39,
   "metadata": {
    "scrolled": true
   },
   "outputs": [
    {
     "name": "stdout",
     "output_type": "stream",
     "text": [
      "[1, 2, 3, 4, 5]\n"
     ]
    },
    {
     "data": {
      "text/plain": [
       "6"
      ]
     },
     "execution_count": 39,
     "metadata": {},
     "output_type": "execute_result"
    }
   ],
   "source": [
    "basket=[1,2,3,4,5,6]\n",
    "pop=basket.pop()\n",
    "print(basket)\n",
    "pop"
   ]
  },
  {
   "cell_type": "code",
   "execution_count": 45,
   "metadata": {
    "scrolled": true
   },
   "outputs": [
    {
     "name": "stdout",
     "output_type": "stream",
     "text": [
      "[1, 2, 4, 5, 6]\n"
     ]
    },
    {
     "data": {
      "text/plain": [
       "3"
      ]
     },
     "execution_count": 45,
     "metadata": {},
     "output_type": "execute_result"
    }
   ],
   "source": [
    "# pop method works with indexes\n",
    "\n",
    "basket=[1,2,3,4,5,6]\n",
    "pop=basket.pop(2)\n",
    "print(basket)\n",
    "pop"
   ]
  },
  {
   "cell_type": "code",
   "execution_count": 46,
   "metadata": {
    "scrolled": true
   },
   "outputs": [
    {
     "name": "stdout",
     "output_type": "stream",
     "text": [
      "[1, 2, 3, 4, 6]\n"
     ]
    }
   ],
   "source": [
    "#remove method works with values.\n",
    "\n",
    "basket=[1,2,3,4,5,6]\n",
    "basket.remove(5)\n",
    "print(basket)\n"
   ]
  },
  {
   "cell_type": "code",
   "execution_count": 50,
   "metadata": {
    "scrolled": true
   },
   "outputs": [
    {
     "name": "stdout",
     "output_type": "stream",
     "text": [
      "1\n",
      "2\n",
      "2\n"
     ]
    }
   ],
   "source": [
    "# index method\n",
    "baskets=['a','b','c','c','d']\n",
    "print(baskets.index('b'))\n",
    "print(baskets.index('c'))\n",
    "print(baskets.index('c'))"
   ]
  },
  {
   "cell_type": "code",
   "execution_count": 54,
   "metadata": {
    "scrolled": true
   },
   "outputs": [
    {
     "name": "stdout",
     "output_type": "stream",
     "text": [
      "True\n",
      "False\n",
      "True\n",
      "False\n"
     ]
    }
   ],
   "source": [
    "# checking element in list\n",
    "\n",
    "baskets=['a','b','c','c','d']\n",
    "\n",
    "print('b' in baskets)\n",
    "print('x' in baskets)\n",
    "\n",
    "print('i' in 'hi how are you?')\n",
    "\n",
    "print('p' in 'hi how are you?')"
   ]
  },
  {
   "cell_type": "code",
   "execution_count": 55,
   "metadata": {
    "scrolled": true
   },
   "outputs": [
    {
     "name": "stdout",
     "output_type": "stream",
     "text": [
      "2\n"
     ]
    }
   ],
   "source": [
    "# count method in list\n",
    "\n",
    "baskets=['a','b','c','c','d']\n",
    "\n",
    "print(baskets.count('c'))"
   ]
  },
  {
   "cell_type": "code",
   "execution_count": 59,
   "metadata": {
    "scrolled": true
   },
   "outputs": [
    {
     "name": "stdout",
     "output_type": "stream",
     "text": [
      "['a', 'b', 'c', 'c', 'd', 'x']\n"
     ]
    }
   ],
   "source": [
    "# sorting element by value in order\n",
    "\n",
    "baskets=['a','x', 'b','c','c','d']\n",
    "\n",
    "baskets.sort()\n",
    "print(baskets)"
   ]
  },
  {
   "cell_type": "code",
   "execution_count": 60,
   "metadata": {
    "scrolled": true
   },
   "outputs": [
    {
     "name": "stdout",
     "output_type": "stream",
     "text": [
      "['a', 'b', 'c', 'c', 'd', 'x']\n"
     ]
    }
   ],
   "source": [
    "# another way to sort but sorted function make a new list but sort fuction don't\n",
    "\n",
    "baskets=['a','x', 'b','c','c','d']\n",
    "print(sorted(baskets))"
   ]
  },
  {
   "cell_type": "code",
   "execution_count": 62,
   "metadata": {
    "scrolled": true
   },
   "outputs": [
    {
     "name": "stdout",
     "output_type": "stream",
     "text": [
      "['a', 'x', 'b', 'c', 'c', 'd']\n"
     ]
    }
   ],
   "source": [
    "# copy a list or make a duplicate\n",
    "\n",
    "baskets=['a','x', 'b','c','c','d']\n",
    "\n",
    "new_baskets=baskets.copy()\n",
    "\n",
    "print(new_baskets)"
   ]
  },
  {
   "cell_type": "code",
   "execution_count": 65,
   "metadata": {
    "scrolled": true
   },
   "outputs": [
    {
     "name": "stdout",
     "output_type": "stream",
     "text": [
      "['d', 'c', 'c', 'b', 'x', 'a']\n"
     ]
    }
   ],
   "source": [
    "# reverse a list \n",
    "\n",
    "baskets=['a','x', 'b','c','c','d']\n",
    "\n",
    "baskets.reverse()\n",
    "print(baskets)"
   ]
  },
  {
   "cell_type": "code",
   "execution_count": 66,
   "metadata": {
    "scrolled": false
   },
   "outputs": [
    {
     "name": "stdout",
     "output_type": "stream",
     "text": [
      "['d', 'c', 'c', 'b', 'x', 'a']\n"
     ]
    }
   ],
   "source": [
    "# another way to reverse a list \n",
    "\n",
    "baskets=['a','x', 'b','c','c','d']\n",
    "print(baskets[::-1])"
   ]
  },
  {
   "cell_type": "code",
   "execution_count": 1,
   "metadata": {},
   "outputs": [
    {
     "name": "stdout",
     "output_type": "stream",
     "text": [
      "[]\n"
     ]
    }
   ],
   "source": [
    "# for clear a list we can use clear() method .\n",
    "\n",
    "baskets=['a','x', 'b','c','c','d']\n",
    "baskets.clear()\n",
    "print(baskets)"
   ]
  },
  {
   "cell_type": "code",
   "execution_count": 73,
   "metadata": {
    "scrolled": true
   },
   "outputs": [
    {
     "name": "stdout",
     "output_type": "stream",
     "text": [
      "[1, 2, 3, 4, 5, 6, 7, 8, 9]\n",
      "[0, 1, 2, 3, 4, 5, 6, 7, 8, 9]\n"
     ]
    }
   ],
   "source": [
    "# making a list with range funciton\n",
    "\n",
    "box=list(range(1,10))\n",
    "print(box)\n",
    "\n",
    "# another way to make a list \n",
    "\n",
    "boxes=list(range(10))\n",
    "print(boxes)\n",
    "\n",
    "#alph=list(range('a','z')) you can not make a list with alphabets\n",
    "#print(alph)"
   ]
  },
  {
   "cell_type": "code",
   "execution_count": 88,
   "metadata": {
    "scrolled": true
   },
   "outputs": [
    {
     "name": "stdout",
     "output_type": "stream",
     "text": [
      "hi!i!am!azad\n",
      "hi-i-am-azad\n",
      "hi i am azad\n"
     ]
    }
   ],
   "source": [
    "# join function\n",
    "\n",
    "sentence=\"!\"\n",
    "\n",
    "new_sentence=sentence.join(['hi','i','am','azad'])\n",
    "print(new_sentence)\n",
    "\n",
    "\n",
    "\n",
    "sentence=\"-\"\n",
    "\n",
    "new_sentence=sentence.join(['hi','i','am','azad'])\n",
    "print(new_sentence)\n",
    "\n",
    "sentence=\" \"\n",
    "\n",
    "new_sentence=sentence.join(['hi','i','am','azad'])\n",
    "print(new_sentence)"
   ]
  },
  {
   "cell_type": "markdown",
   "metadata": {},
   "source": [
    "# LIST unpacking"
   ]
  },
  {
   "cell_type": "code",
   "execution_count": 92,
   "metadata": {
    "scrolled": true
   },
   "outputs": [
    {
     "name": "stdout",
     "output_type": "stream",
     "text": [
      "1\n",
      "2\n",
      "3\n",
      "[4, 5, 6]\n",
      "7\n"
     ]
    }
   ],
   "source": [
    "#list unpacking\n",
    "a,b,c, *other,d=[1,2,3,4,5,6,7]\n",
    "print(a)\n",
    "print(b)\n",
    "print(c)\n",
    "print(other)\n",
    "print(d)"
   ]
  }
 ],
 "metadata": {
  "kernelspec": {
   "display_name": "Python 3",
   "language": "python",
   "name": "python3"
  },
  "language_info": {
   "codemirror_mode": {
    "name": "ipython",
    "version": 3
   },
   "file_extension": ".py",
   "mimetype": "text/x-python",
   "name": "python",
   "nbconvert_exporter": "python",
   "pygments_lexer": "ipython3",
   "version": "3.7.3"
  }
 },
 "nbformat": 4,
 "nbformat_minor": 2
}
