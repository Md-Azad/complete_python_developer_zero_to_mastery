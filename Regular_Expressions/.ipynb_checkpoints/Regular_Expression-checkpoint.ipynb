{
 "cells": [
  {
   "cell_type": "code",
   "execution_count": null,
   "metadata": {},
   "outputs": [],
   "source": []
  },
  {
   "cell_type": "code",
   "execution_count": 19,
   "metadata": {
    "scrolled": true
   },
   "outputs": [
    {
     "name": "stdout",
     "output_type": "stream",
     "text": [
      "<re.Match object; span=(7, 9), match='in'>\n",
      "(7, 9)\n",
      "7\n",
      "9\n",
      "in\n"
     ]
    }
   ],
   "source": [
    "import re\n",
    "\n",
    "search= 'search in this line'\n",
    "a = re.search('in', search)\n",
    "\n",
    "print(a)\n",
    "\n",
    "# to find our desired text's index (start to end)\n",
    "\n",
    "print(a.span())\n",
    "\n",
    "print(a.start())\n",
    "\n",
    "print(a.end())\n",
    "\n",
    "print(a.group())"
   ]
  },
  {
   "cell_type": "code",
   "execution_count": 23,
   "metadata": {
    "scrolled": true
   },
   "outputs": [
    {
     "name": "stdout",
     "output_type": "stream",
     "text": [
      "<re.Match object; span=(0, 4), match='this'>\n",
      "['this', 'this']\n",
      "None\n",
      "<re.Match object; span=(0, 29), match='this is a search engine which'>\n"
     ]
    }
   ],
   "source": [
    "import re\n",
    "\n",
    "pattern =re.compile('this')\n",
    "\n",
    "string= 'this is a search engine which will search this'\n",
    "\n",
    "a= pattern.search(string)\n",
    "#to find how many times a word comes.\n",
    "\n",
    "b = pattern.findall(string)\n",
    "\n",
    "# fullmatch() used to check are the houl text is same or not .\n",
    "\n",
    "search =re.compile('this is a search engine which')\n",
    "\n",
    "# we use fullmatch( ) for checking is both text are same of not.\n",
    "c = search.fullmatch(string)\n",
    "\n",
    "d=search.match(string)\n",
    "\n",
    "print(a)\n",
    "\n",
    "print(b)\n",
    "\n",
    "print(c)\n",
    "\n",
    "print(d)"
   ]
  },
  {
   "cell_type": "markdown",
   "metadata": {},
   "source": [
    "# password validation with regular expressions\n"
   ]
  },
  {
   "cell_type": "code",
   "execution_count": 26,
   "metadata": {},
   "outputs": [
    {
     "name": "stdout",
     "output_type": "stream",
     "text": [
      "<re.Match object; span=(0, 13), match='azadhossain!4'>\n"
     ]
    }
   ],
   "source": [
    "import re\n",
    "\n",
    "pattern = re.compile(r\"[a-zA-Z0-9!@#%]{5,}\\d\")\n",
    "\n",
    "password=  'azadhossain!4'\n",
    "\n",
    "check= pattern.fullmatch(password)\n",
    "print(check)"
   ]
  }
 ],
 "metadata": {
  "kernelspec": {
   "display_name": "Python 3",
   "language": "python",
   "name": "python3"
  },
  "language_info": {
   "codemirror_mode": {
    "name": "ipython",
    "version": 3
   },
   "file_extension": ".py",
   "mimetype": "text/x-python",
   "name": "python",
   "nbconvert_exporter": "python",
   "pygments_lexer": "ipython3",
   "version": "3.7.3"
  }
 },
 "nbformat": 4,
 "nbformat_minor": 2
}
