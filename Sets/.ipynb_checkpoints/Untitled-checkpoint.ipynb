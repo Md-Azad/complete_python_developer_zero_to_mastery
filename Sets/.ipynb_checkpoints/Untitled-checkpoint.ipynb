{
 "cells": [
  {
   "cell_type": "markdown",
   "metadata": {},
   "source": [
    "# Sets\n"
   ]
  },
  {
   "cell_type": "code",
   "execution_count": 1,
   "metadata": {
    "scrolled": true
   },
   "outputs": [
    {
     "name": "stdout",
     "output_type": "stream",
     "text": [
      "{1, 2, 3, 4, 5}\n"
     ]
    }
   ],
   "source": [
    "# is set data structure every items has to be unique. \n",
    "\n",
    "my_sets={1,2,3,4,5,5}\n",
    "\n",
    "print(my_sets)"
   ]
  },
  {
   "cell_type": "code",
   "execution_count": 2,
   "metadata": {
    "scrolled": true
   },
   "outputs": [
    {
     "name": "stdout",
     "output_type": "stream",
     "text": [
      "{1, 2, 3, 4, 5, 100}\n"
     ]
    }
   ],
   "source": [
    "my_sets={1,2,3,4,5,5}\n",
    "\n",
    "my_sets.add(100)\n",
    "my_sets.add(2)\n",
    "\n",
    "print(my_sets)"
   ]
  },
  {
   "cell_type": "code",
   "execution_count": 3,
   "metadata": {
    "scrolled": false
   },
   "outputs": [
    {
     "name": "stdout",
     "output_type": "stream",
     "text": [
      "{1, 2, 3, 4, 5}\n"
     ]
    }
   ],
   "source": [
    "my_sets=[1,2,3,4,5,5]\n",
    "\n",
    "print(set(my_sets)) # Set method give us only unique value.\n",
    "\n"
   ]
  },
  {
   "cell_type": "code",
   "execution_count": 5,
   "metadata": {
    "scrolled": false
   },
   "outputs": [
    {
     "name": "stdout",
     "output_type": "stream",
     "text": [
      "True\n",
      "5\n"
     ]
    }
   ],
   "source": [
    "my_sets={1,2,3,4,5,5}\n",
    "\n",
    "# sets does not allow idexing that means we can not find a value by index number. \n",
    "# But we can find values like below.\n",
    "\n",
    "print(3 in my_sets)\n",
    "\n",
    "print(len(my_sets)) # len() method does count only unique value .\n"
   ]
  },
  {
   "cell_type": "code",
   "execution_count": 7,
   "metadata": {
    "scrolled": true
   },
   "outputs": [
    {
     "name": "stdout",
     "output_type": "stream",
     "text": [
      "set()\n",
      "{1, 2, 3, 4, 5}\n"
     ]
    }
   ],
   "source": [
    "my_sets={1,2,3,4,5,5}\n",
    "\n",
    "new_sets=my_sets.copy()\n",
    "\n",
    "my_sets.clear()\n",
    "\n",
    "print(my_sets)\n",
    "\n",
    "print(new_sets)"
   ]
  },
  {
   "cell_type": "markdown",
   "metadata": {},
   "source": [
    "# Set Methods"
   ]
  },
  {
   "cell_type": "code",
   "execution_count": 12,
   "metadata": {},
   "outputs": [
    {
     "name": "stdout",
     "output_type": "stream",
     "text": [
      "{1, 2, 3}\n",
      "{1, 2, 3, 5, 6}\n",
      "{1, 2, 3, 5, 6}\n",
      "{1, 2, 3}\n"
     ]
    }
   ],
   "source": [
    "my_set={1,2,3,5,6}\n",
    "\n",
    "other_set={5,6,7,8,9}\n",
    "\n",
    "print( my_set.difference(other_set)) # difference does not modify the main set.\n",
    "\n",
    "print( my_set)\n",
    "\n",
    "other_set.discard(7)\n",
    "\n",
    "print(my_set)\n",
    "\n",
    "my_set.difference_update(other_set) # difference_update( ) method modify the set\n",
    "\n",
    "print(my_set)\n",
    "\n"
   ]
  }
 ],
 "metadata": {
  "kernelspec": {
   "display_name": "Python 3",
   "language": "python",
   "name": "python3"
  },
  "language_info": {
   "codemirror_mode": {
    "name": "ipython",
    "version": 3
   },
   "file_extension": ".py",
   "mimetype": "text/x-python",
   "name": "python",
   "nbconvert_exporter": "python",
   "pygments_lexer": "ipython3",
   "version": "3.7.3"
  }
 },
 "nbformat": 4,
 "nbformat_minor": 2
}
