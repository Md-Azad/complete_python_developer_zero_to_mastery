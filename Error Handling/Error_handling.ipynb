{
 "cells": [
  {
   "cell_type": "markdown",
   "metadata": {},
   "source": [
    "# value and DivByZero error handling"
   ]
  },
  {
   "cell_type": "code",
   "execution_count": 1,
   "metadata": {},
   "outputs": [
    {
     "name": "stdout",
     "output_type": "stream",
     "text": [
      "inter your age? 0\n",
      "age can't be zero\n",
      "inter your age? dfdfd\n",
      "Please enter a number.\n",
      "inter your age? 2\n",
      "thank you!\n"
     ]
    }
   ],
   "source": [
    "while True:\n",
    "    try:\n",
    "        age=int(input('inter your age? '))\n",
    "        10/age\n",
    "        #print(f'Your age is {age} .')\n",
    "\n",
    "    except ValueError:\n",
    "        print(\"Please enter a number.\")\n",
    "        \n",
    "    except ZeroDivisionError:\n",
    "        print(\"age can't be zero\")\n",
    "\n",
    "    else:\n",
    "        print('thank you!')\n",
    "        break"
   ]
  },
  {
   "cell_type": "code",
   "execution_count": 2,
   "metadata": {
    "scrolled": false
   },
   "outputs": [
    {
     "name": "stdout",
     "output_type": "stream",
     "text": [
      "unsupported operand type(s) for +: 'int' and 'str'\n"
     ]
    }
   ],
   "source": [
    "def sum(num1,num2):\n",
    "    try:\n",
    "        return num1 + num2\n",
    "    \n",
    "    except TypeError as err:\n",
    "        print(err)\n",
    "        \n",
    "sum(1,'2')\n"
   ]
  },
  {
   "cell_type": "markdown",
   "metadata": {},
   "source": [
    "# Handling multiple error"
   ]
  },
  {
   "cell_type": "code",
   "execution_count": 10,
   "metadata": {},
   "outputs": [
    {
     "name": "stdout",
     "output_type": "stream",
     "text": [
      "unsupported operand type(s) for /: 'int' and 'str'\n",
      "division by zero\n"
     ]
    }
   ],
   "source": [
    "def sum(num1,num2):\n",
    "    try:\n",
    "        return num1/num2\n",
    "    \n",
    "    except (TypeError,ZeroDivisionError) as err:\n",
    "        print(err)\n",
    "        \n",
    "sum(1,'2')\n",
    "sum(1,0)"
   ]
  },
  {
   "cell_type": "code",
   "execution_count": null,
   "metadata": {},
   "outputs": [],
   "source": []
  }
 ],
 "metadata": {
  "kernelspec": {
   "display_name": "Python 3",
   "language": "python",
   "name": "python3"
  },
  "language_info": {
   "codemirror_mode": {
    "name": "ipython",
    "version": 3
   },
   "file_extension": ".py",
   "mimetype": "text/x-python",
   "name": "python",
   "nbconvert_exporter": "python",
   "pygments_lexer": "ipython3",
   "version": "3.7.3"
  }
 },
 "nbformat": 4,
 "nbformat_minor": 2
}
