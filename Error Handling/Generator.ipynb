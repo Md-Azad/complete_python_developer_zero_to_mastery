{
 "cells": [
  {
   "cell_type": "markdown",
   "metadata": {},
   "source": [
    "# generator performance\n"
   ]
  },
  {
   "cell_type": "code",
   "execution_count": 1,
   "metadata": {
    "scrolled": true
   },
   "outputs": [
    {
     "name": "stdout",
     "output_type": "stream",
     "text": [
      "1\n",
      "took 0.006529808044433594 s\n",
      "2\n",
      "took 0.01149439811706543 s\n"
     ]
    }
   ],
   "source": [
    "from time import time\n",
    "def performance(fn):\n",
    "    def wrapper(*args, **kawrgs):\n",
    "        t1 = time()\n",
    "        result = fn(*args, **kawrgs)\n",
    "        t2 = time()\n",
    "        print(f'took {t2-t1} s')\n",
    "        return result\n",
    "    return wrapper\n",
    "\n",
    "@performance\n",
    "def long_time():\n",
    "    print('1')\n",
    "    for i in range(100000):\n",
    "        i*5\n",
    "@performance\n",
    "def long_time2():\n",
    "    print('2')\n",
    "    for i in list(range(100000)):\n",
    "        i*5\n",
    "\n",
    "\n",
    "long_time()\n",
    "long_time2()"
   ]
  },
  {
   "cell_type": "markdown",
   "metadata": {},
   "source": [
    "# fabonacci series with generator"
   ]
  },
  {
   "cell_type": "code",
   "execution_count": 11,
   "metadata": {
    "scrolled": true
   },
   "outputs": [
    {
     "name": "stdout",
     "output_type": "stream",
     "text": [
      "0\n",
      "1\n",
      "1\n",
      "2\n"
     ]
    }
   ],
   "source": [
    "def fab(num):\n",
    "    a=0\n",
    "    b=1\n",
    "    for i in range(num):\n",
    "        yield a\n",
    "        \n",
    "        temp=a\n",
    "        #print(f'temp is {temp}')\n",
    "        a=b\n",
    "        #print(f'a is :{a}')\n",
    "        b=temp + a\n",
    "        #print(f'b is {b}')\n",
    "for x in fab(4):\n",
    "    print(x)"
   ]
  },
  {
   "cell_type": "code",
   "execution_count": 16,
   "metadata": {},
   "outputs": [
    {
     "name": "stdout",
     "output_type": "stream",
     "text": [
      "show class c\n",
      "show class a\n"
     ]
    }
   ],
   "source": [
    "class A():\n",
    "    def show(self):\n",
    "        \n",
    "        print(\"show class a\")\n",
    "class B():\n",
    "    def show(self):\n",
    "        print(\"show class b\")\n",
    "    \n",
    "class C(A,B):\n",
    "    print('show class c')\n",
    "    \n",
    "C().show()"
   ]
  }
 ],
 "metadata": {
  "kernelspec": {
   "display_name": "Python 3",
   "language": "python",
   "name": "python3"
  },
  "language_info": {
   "codemirror_mode": {
    "name": "ipython",
    "version": 3
   },
   "file_extension": ".py",
   "mimetype": "text/x-python",
   "name": "python",
   "nbconvert_exporter": "python",
   "pygments_lexer": "ipython3",
   "version": "3.7.3"
  }
 },
 "nbformat": 4,
 "nbformat_minor": 2
}
