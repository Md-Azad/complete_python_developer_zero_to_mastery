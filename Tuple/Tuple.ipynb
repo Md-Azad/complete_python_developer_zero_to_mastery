{
 "cells": [
  {
   "cell_type": "markdown",
   "metadata": {},
   "source": [
    "# Tuple\n",
    "\n"
   ]
  },
  {
   "cell_type": "code",
   "execution_count": 2,
   "metadata": {
    "scrolled": true
   },
   "outputs": [
    {
     "name": "stdout",
     "output_type": "stream",
     "text": [
      "2\n",
      "True\n"
     ]
    }
   ],
   "source": [
    " # Tuples are immutable. you can not change its items once you created.\n",
    "    \n",
    "my_tuple=(1,2,3,4,5)\n",
    "\n",
    "print(my_tuple[1])\n",
    "\n",
    "print(5 in my_tuple)"
   ]
  },
  {
   "cell_type": "markdown",
   "metadata": {},
   "source": [
    "# Tuple methods"
   ]
  },
  {
   "cell_type": "code",
   "execution_count": 8,
   "metadata": {},
   "outputs": [
    {
     "name": "stdout",
     "output_type": "stream",
     "text": [
      "4\n",
      "1\n",
      "8\n"
     ]
    }
   ],
   "source": [
    "my_tuple=(1,2,3,4,5,3,3,3)\n",
    "\n",
    "print(my_tuple.count(3)) # count( ) method will count an item present in tuple.\n",
    "\n",
    "print(my_tuple.index(2)) # index() method used for find the index of a value .\n",
    "\n",
    "print(len(my_tuple)) # len() method tell us how many items consist a tuple."
   ]
  }
 ],
 "metadata": {
  "kernelspec": {
   "display_name": "Python 3",
   "language": "python",
   "name": "python3"
  },
  "language_info": {
   "codemirror_mode": {
    "name": "ipython",
    "version": 3
   },
   "file_extension": ".py",
   "mimetype": "text/x-python",
   "name": "python",
   "nbconvert_exporter": "python",
   "pygments_lexer": "ipython3",
   "version": "3.7.3"
  }
 },
 "nbformat": 4,
 "nbformat_minor": 2
}
