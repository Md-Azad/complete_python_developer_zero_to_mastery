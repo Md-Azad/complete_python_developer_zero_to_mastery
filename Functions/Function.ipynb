{
 "cells": [
  {
   "cell_type": "code",
   "execution_count": 5,
   "metadata": {
    "scrolled": true
   },
   "outputs": [
    {
     "name": "stdout",
     "output_type": "stream",
     "text": [
      "   *   \n",
      "  ***  \n",
      " ***** \n",
      "*******\n",
      "   *   \n",
      "   *   \n",
      "   *   \n",
      "  ***  \n",
      " ***** \n",
      "*******\n",
      "   *   \n",
      "   *   \n",
      "   *   \n",
      "  ***  \n",
      " ***** \n",
      "*******\n",
      "   *   \n",
      "   *   \n"
     ]
    }
   ],
   "source": [
    "picture=[\n",
    "    [0,0,0,1,0,0,0],\n",
    "    [0,0,1,1,1,0,0],\n",
    "    [0,1,1,1,1,1,0],\n",
    "    [1,1,1,1,1,1,1],\n",
    "    [0,0,0,1,0,0,0],\n",
    "    [0,0,0,1,0,0,0]\n",
    "]\n",
    "\n",
    "def crismas_tree():\n",
    "    for item in picture:\n",
    "        for x in item:\n",
    "\n",
    "            if x == 0:\n",
    "                print(' ',end='')\n",
    "            else:\n",
    "                print('*',end='')\n",
    "        print('')\n",
    "\n",
    "for i in range(3):\n",
    "    crismas_tree()"
   ]
  },
  {
   "cell_type": "code",
   "execution_count": 10,
   "metadata": {
    "scrolled": true
   },
   "outputs": [
    {
     "name": "stdout",
     "output_type": "stream",
     "text": [
      "hello Azad, your age is 27 .:thums_up:\n",
      "hello monir, your age is 28 .:thums_up:\n"
     ]
    }
   ],
   "source": [
    "def say_hello(name,age):\n",
    "   \n",
    "    print(f'hello {name}, your age is {age} .')\n",
    "          \n",
    "say_hello('Azad',27)\n",
    "say_hello('monir',28)\n"
   ]
  },
  {
   "cell_type": "markdown",
   "metadata": {},
   "source": [
    "# Return method"
   ]
  },
  {
   "cell_type": "code",
   "execution_count": 5,
   "metadata": {
    "scrolled": true
   },
   "outputs": [
    {
     "data": {
      "text/plain": [
       "3"
      ]
     },
     "execution_count": 5,
     "metadata": {},
     "output_type": "execute_result"
    }
   ],
   "source": [
    "def add_num(num1=3):\n",
    "    return num1\n",
    "add_num()"
   ]
  },
  {
   "cell_type": "code",
   "execution_count": 15,
   "metadata": {
    "scrolled": true
   },
   "outputs": [
    {
     "name": "stdout",
     "output_type": "stream",
     "text": [
      "Sorry, you are too young to drive this car. Powering off\n"
     ]
    }
   ],
   "source": [
    "\n",
    "def checkDriverAge(age=0):\n",
    "  \n",
    "  if int(age) < 18:\n",
    "    print(\"Sorry, you are too young to drive this car. Powering off\")\n",
    "  elif int(age) > 18:\n",
    "    print(\"Powering On. Enjoy the ride!\");\n",
    "  elif int(age) == 18:\n",
    "    print(\"Congratulations on your first year of driving. Enjoy the ride!\")\n",
    "  \n",
    "checkDriverAge()"
   ]
  },
  {
   "cell_type": "code",
   "execution_count": 20,
   "metadata": {
    "scrolled": true
   },
   "outputs": [
    {
     "name": "stdout",
     "output_type": "stream",
     "text": [
      "What is your age?: 92\n",
      "Powering On. Enjoy the ride!\n"
     ]
    }
   ],
   "source": [
    "def checkDriverAge():\n",
    "    age = input(\"What is your age?: \")\n",
    "    \n",
    "    if int(age) < 18:\n",
    "        print(\"Sorry, you are too young to drive this car. Powering off\")\n",
    "    elif int(age) > 18:\n",
    "        print(\"Powering On. Enjoy the ride!\");\n",
    "    elif int(age) == 18:\n",
    "        print(\"Congratulations on your first year of driving. Enjoy the ride!\")\n",
    "  \n",
    "checkDriverAge()"
   ]
  },
  {
   "cell_type": "markdown",
   "metadata": {},
   "source": [
    "# exercise function\n",
    "\n",
    "printing height even value from a list"
   ]
  },
  {
   "cell_type": "code",
   "execution_count": 52,
   "metadata": {
    "scrolled": true
   },
   "outputs": [
    {
     "name": "stdout",
     "output_type": "stream",
     "text": [
      "10\n"
     ]
    }
   ],
   "source": [
    "def height_even(lis):\n",
    "    even=[]\n",
    "    for item in lis:\n",
    "        if item % 2 == 0:\n",
    "            even.append(item)\n",
    "    return max(even)\n",
    "            \n",
    "print(height_even([10,2,5,11]))"
   ]
  },
  {
   "cell_type": "code",
   "execution_count": 57,
   "metadata": {
    "scrolled": true
   },
   "outputs": [
    {
     "name": "stdout",
     "output_type": "stream",
     "text": [
      "4\n",
      "\n",
      "    info: Another way to find height even value from a list and store as integer.\n",
      "\n",
      "    \n"
     ]
    }
   ],
   "source": [
    "#my_list=[1,2,5,4]\n",
    "\n",
    "def height_even_value(list):\n",
    "    \n",
    "    \n",
    "    '''\n",
    "    info: Another way to find height even value from a list and store as integer.\n",
    "\n",
    "    '''\n",
    "    even=0\n",
    "    for i in my_list:\n",
    "        if i %2==0 and max(my_list):\n",
    "            even = i\n",
    "    return even\n",
    "print(height_even_value([1,2,5,4]))\n",
    "print(height_even_value.__doc__)"
   ]
  },
  {
   "cell_type": "markdown",
   "metadata": {},
   "source": [
    "# Scope\n",
    "What variable do i have to access to ?"
   ]
  },
  {
   "cell_type": "code",
   "execution_count": null,
   "metadata": {},
   "outputs": [],
   "source": []
  }
 ],
 "metadata": {
  "kernelspec": {
   "display_name": "Python 3",
   "language": "python",
   "name": "python3"
  },
  "language_info": {
   "codemirror_mode": {
    "name": "ipython",
    "version": 3
   },
   "file_extension": ".py",
   "mimetype": "text/x-python",
   "name": "python",
   "nbconvert_exporter": "python",
   "pygments_lexer": "ipython3",
   "version": "3.7.3"
  }
 },
 "nbformat": 4,
 "nbformat_minor": 2
}
