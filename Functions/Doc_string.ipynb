{
 "cells": [
  {
   "cell_type": "code",
   "execution_count": 2,
   "metadata": {},
   "outputs": [
    {
     "name": "stdout",
     "output_type": "stream",
     "text": [
      "What is your age?: 55\n",
      "Powering On. Enjoy the ride!\n",
      "\n",
      "    info: this function will check whether a person is able to drive a car or not by checking his/her age.\n",
      "    \n",
      "    \n"
     ]
    }
   ],
   "source": [
    "def checkDriverAge():\n",
    "    '''\n",
    "    info: this function will check whether a person is able to drive a car or not by checking his/her age.\n",
    "    \n",
    "    '''\n",
    "    \n",
    "    age = input(\"What is your age?: \")\n",
    "    \n",
    "    if int(age) < 18:\n",
    "        print(\"Sorry, you are too young to drive this car. Powering off\")\n",
    "    elif int(age) > 18:\n",
    "        print(\"Powering On. Enjoy the ride!\");\n",
    "    elif int(age) == 18:\n",
    "        print(\"Congratulations on your first year of driving. Enjoy the ride!\")\n",
    "  \n",
    "checkDriverAge()\n",
    "print(checkDriverAge.__doc__)"
   ]
  }
 ],
 "metadata": {
  "kernelspec": {
   "display_name": "Python 3",
   "language": "python",
   "name": "python3"
  },
  "language_info": {
   "codemirror_mode": {
    "name": "ipython",
    "version": 3
   },
   "file_extension": ".py",
   "mimetype": "text/x-python",
   "name": "python",
   "nbconvert_exporter": "python",
   "pygments_lexer": "ipython3",
   "version": "3.7.3"
  }
 },
 "nbformat": 4,
 "nbformat_minor": 2
}
