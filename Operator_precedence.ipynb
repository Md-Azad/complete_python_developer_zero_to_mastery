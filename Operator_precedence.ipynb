{
 "cells": [
  {
   "cell_type": "code",
   "execution_count": 2,
   "metadata": {
    "scrolled": true
   },
   "outputs": [
    {
     "name": "stdout",
     "output_type": "stream",
     "text": [
      "8\n"
     ]
    }
   ],
   "source": [
    "print(20 -3*4)"
   ]
  },
  {
   "cell_type": "code",
   "execution_count": null,
   "metadata": {},
   "outputs": [],
   "source": [
    "# operator precedence follow like bellow\n",
    "\n",
    "# ()\n",
    "# **\n",
    "#* and /\n",
    "# + and -\n"
   ]
  },
  {
   "cell_type": "code",
   "execution_count": 3,
   "metadata": {
    "scrolled": true
   },
   "outputs": [
    {
     "name": "stdout",
     "output_type": "stream",
     "text": [
      "21\n"
     ]
    }
   ],
   "source": [
    "print((20-3)+2**2)"
   ]
  },
  {
   "cell_type": "code",
   "execution_count": 4,
   "metadata": {
    "scrolled": true
   },
   "outputs": [
    {
     "name": "stdout",
     "output_type": "stream",
     "text": [
      "45.0\n",
      "45.0\n",
      "45.0\n",
      "25.0\n",
      "25\n"
     ]
    }
   ],
   "source": [
    "print((5 + 4) * 10 / 2) #45\n",
    "\n",
    "print(((5 + 4) * 10) / 2)#45\n",
    "\n",
    "print((5 + 4) * (10 / 2))#45\n",
    "\n",
    "print(5 + (4 * 10) / 2)#25\n",
    "\n",
    "print(5 + 4 * 10 // 2)#25"
   ]
  },
  {
   "cell_type": "code",
   "execution_count": 12,
   "metadata": {
    "scrolled": true
   },
   "outputs": [
    {
     "name": "stdout",
     "output_type": "stream",
     "text": [
      "0b1010\n"
     ]
    }
   ],
   "source": [
    "#bin function used for convert any number to binary\n",
    "print(bin(10))\n"
   ]
  },
  {
   "cell_type": "code",
   "execution_count": 9,
   "metadata": {
    "scrolled": true
   },
   "outputs": [
    {
     "name": "stdout",
     "output_type": "stream",
     "text": [
      "10\n"
     ]
    }
   ],
   "source": [
    "#convert an binary number to integer number.\n",
    "print(int('0b1010',2))"
   ]
  },
  {
   "cell_type": "markdown",
   "metadata": {},
   "source": [
    "# Formated string\n"
   ]
  },
  {
   "cell_type": "code",
   "execution_count": 1,
   "metadata": {
    "scrolled": true
   },
   "outputs": [
    {
     "name": "stdout",
     "output_type": "stream",
     "text": [
      "enter your name :azad\n",
      "enter your age: 27\n",
      "your name is :azad and you are 27 years old.\n"
     ]
    }
   ],
   "source": [
    "name=input('enter your name :')\n",
    "age=input('enter your age: ')\n",
    "print(f'your name is : {name} and you are {age} years old.')"
   ]
  },
  {
   "cell_type": "code",
   "execution_count": 3,
   "metadata": {
    "scrolled": true
   },
   "outputs": [
    {
     "name": "stdout",
     "output_type": "stream",
     "text": [
      "enter your name :hazrat\n",
      "enter your age: 25\n",
      "your name is : hazrat and you are 25 years old.\n"
     ]
    }
   ],
   "source": [
    "#another way to use formated string\n",
    "name=input('enter your name :')\n",
    "age=input('enter your age: ')\n",
    "print('your name is : {} and you are {} years old.'.format(name,age))"
   ]
  },
  {
   "cell_type": "code",
   "execution_count": 4,
   "metadata": {
    "scrolled": true
   },
   "outputs": [
    {
     "name": "stdout",
     "output_type": "stream",
     "text": [
      "enter your name :azad\n",
      "enter your age: 35\n",
      "your name is : 35 and you are azad years old.\n"
     ]
    }
   ],
   "source": [
    "# you can set by index also\n",
    "name=input('enter your name :')\n",
    "age=input('enter your age: ')\n",
    "print('your name is : {1} and you are {0} years old.'.format(name,age))"
   ]
  },
  {
   "cell_type": "markdown",
   "metadata": {},
   "source": [
    "# String Indexes"
   ]
  },
  {
   "cell_type": "code",
   "execution_count": 9,
   "metadata": {
    "scrolled": true
   },
   "outputs": [
    {
     "name": "stdout",
     "output_type": "stream",
     "text": [
      "012345\n"
     ]
    }
   ],
   "source": [
    "numbers='01234567'\n",
    "#start:stop:stepover\n",
    "print(numbers[0:6])"
   ]
  },
  {
   "cell_type": "code",
   "execution_count": 10,
   "metadata": {
    "scrolled": true
   },
   "outputs": [
    {
     "name": "stdout",
     "output_type": "stream",
     "text": [
      "0246\n"
     ]
    }
   ],
   "source": [
    "print(numbers[0:8:2])"
   ]
  },
  {
   "cell_type": "code",
   "execution_count": 11,
   "metadata": {
    "scrolled": true
   },
   "outputs": [
    {
     "name": "stdout",
     "output_type": "stream",
     "text": [
      "1234567\n"
     ]
    }
   ],
   "source": [
    "print(numbers[1:])"
   ]
  },
  {
   "cell_type": "code",
   "execution_count": 12,
   "metadata": {
    "scrolled": true
   },
   "outputs": [
    {
     "name": "stdout",
     "output_type": "stream",
     "text": [
      "01234\n"
     ]
    }
   ],
   "source": [
    "print(numbers[:5])"
   ]
  },
  {
   "cell_type": "code",
   "execution_count": 13,
   "metadata": {
    "scrolled": true
   },
   "outputs": [
    {
     "name": "stdout",
     "output_type": "stream",
     "text": [
      "6\n"
     ]
    }
   ],
   "source": [
    "print(numbers[-2])"
   ]
  },
  {
   "cell_type": "code",
   "execution_count": 14,
   "metadata": {
    "scrolled": true
   },
   "outputs": [
    {
     "name": "stdout",
     "output_type": "stream",
     "text": [
      "76543210\n"
     ]
    }
   ],
   "source": [
    "print(numbers[::-1])"
   ]
  },
  {
   "cell_type": "code",
   "execution_count": 15,
   "metadata": {
    "scrolled": true
   },
   "outputs": [
    {
     "name": "stdout",
     "output_type": "stream",
     "text": [
      "7531\n"
     ]
    }
   ],
   "source": [
    "print(numbers[::-2])"
   ]
  },
  {
   "cell_type": "code",
   "execution_count": 16,
   "metadata": {
    "scrolled": true
   },
   "outputs": [
    {
     "name": "stdout",
     "output_type": "stream",
     "text": [
      "741\n"
     ]
    }
   ],
   "source": [
    "print(numbers[::-3])"
   ]
  },
  {
   "cell_type": "markdown",
   "metadata": {},
   "source": [
    "# Immutability"
   ]
  },
  {
   "cell_type": "code",
   "execution_count": null,
   "metadata": {},
   "outputs": [],
   "source": [
    "# Immutability is something that we can not change persially .such as string we can not change one part of string.\n"
   ]
  },
  {
   "cell_type": "markdown",
   "metadata": {},
   "source": [
    "# Exercise  "
   ]
  },
  {
   "cell_type": "code",
   "execution_count": 26,
   "metadata": {},
   "outputs": [
    {
     "name": "stdout",
     "output_type": "stream",
     "text": [
      "What year you were born ?1999\n",
      "your age is : 21\n"
     ]
    }
   ],
   "source": [
    "birth_year=int(input('What year you were born ?'))\n",
    "age=2020-birth_year\n",
    "print(f\"your age is : {age}\")"
   ]
  },
  {
   "cell_type": "markdown",
   "metadata": {},
   "source": [
    "# password checker"
   ]
  },
  {
   "cell_type": "code",
   "execution_count": 27,
   "metadata": {},
   "outputs": [
    {
     "name": "stdout",
     "output_type": "stream",
     "text": [
      "inter your name :Azad\n",
      "inter your password :Bangladesh\n",
      "Azad your password ########## is 10 letters long\n"
     ]
    }
   ],
   "source": [
    "username=input('inter your name :')\n",
    "\n",
    "password=input('inter your password :')\n",
    "\n",
    "len_of_pass=len(password)\n",
    "\n",
    "star='#'*len_of_pass\n",
    "print(f'{username} your password {star} is {len_of_pass} letters long' )"
   ]
  }
 ],
 "metadata": {
  "kernelspec": {
   "display_name": "Python 3",
   "language": "python",
   "name": "python3"
  },
  "language_info": {
   "codemirror_mode": {
    "name": "ipython",
    "version": 3
   },
   "file_extension": ".py",
   "mimetype": "text/x-python",
   "name": "python",
   "nbconvert_exporter": "python",
   "pygments_lexer": "ipython3",
   "version": "3.7.3"
  }
 },
 "nbformat": 4,
 "nbformat_minor": 2
}
