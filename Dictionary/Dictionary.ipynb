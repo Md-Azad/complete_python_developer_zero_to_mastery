{
 "cells": [
  {
   "cell_type": "code",
   "execution_count": 2,
   "metadata": {
    "scrolled": true
   },
   "outputs": [
    {
     "name": "stdout",
     "output_type": "stream",
     "text": [
      "{'a': 1, 'b': 2}\n",
      "1\n"
     ]
    }
   ],
   "source": [
    "dictionary={\n",
    "    'a':1,\n",
    "    'b':2\n",
    "}\n",
    "print(dictionary)\n",
    "\n",
    "print(dictionary['a'])\n"
   ]
  },
  {
   "cell_type": "code",
   "execution_count": 3,
   "metadata": {
    "scrolled": true
   },
   "outputs": [
    {
     "name": "stdout",
     "output_type": "stream",
     "text": [
      "2\n"
     ]
    }
   ],
   "source": [
    "dictionary={\n",
    "    'a':[1,2,3],\n",
    "    'b':'hi,how are you?',\n",
    "    'x':True\n",
    "}\n",
    "print(dictionary['a'][1])"
   ]
  },
  {
   "cell_type": "code",
   "execution_count": 9,
   "metadata": {
    "scrolled": true
   },
   "outputs": [
    {
     "name": "stdout",
     "output_type": "stream",
     "text": [
      "3\n",
      "4\n"
     ]
    }
   ],
   "source": [
    "my_list=[\n",
    "    {\n",
    "    'a': [1,2,3],\n",
    "    'b':'hi,how are you?',\n",
    "    'x':True\n",
    "    \n",
    "},\n",
    "    {\n",
    "    'a':[4,5,6],\n",
    "    'b':'hi,how are you?',\n",
    "    'x':True\n",
    "    }\n",
    "]\n",
    "print(my_list[0]['a'][2])\n",
    "\n",
    "print(my_list[1]['a'][0])"
   ]
  },
  {
   "cell_type": "code",
   "execution_count": 11,
   "metadata": {
    "scrolled": true
   },
   "outputs": [
    {
     "name": "stdout",
     "output_type": "stream",
     "text": [
      "[1, 2, 3]\n",
      "hi,how are you?\n"
     ]
    }
   ],
   "source": [
    "dictionary={\n",
    "    123:[1,2,3],\n",
    "    True:'hi,how are you?',\n",
    "    'x':True\n",
    "}\n",
    "print(dictionary[123])#keyword can be intiger \n",
    "\n",
    "print(dictionary[True])# keword can be boolean also"
   ]
  },
  {
   "cell_type": "code",
   "execution_count": 7,
   "metadata": {
    "scrolled": false
   },
   "outputs": [
    {
     "name": "stdout",
     "output_type": "stream",
     "text": [
      "29\n",
      "20\n",
      "{'name': 'Azad'}\n"
     ]
    }
   ],
   "source": [
    "# with get method we can set value as default\n",
    "user={\n",
    "    'basket':[1,2,3],\n",
    "    'greting':'hello'\n",
    "}\n",
    "print(user.get('age',29))\n",
    "# but if dictionary has an age keyword already then it's print this value\n",
    "user={\n",
    "    'basket':[1,2,3],\n",
    "    'greting':'hello',\n",
    "    'age':20\n",
    "}\n",
    "print(user.get('age',29))\n",
    "\n",
    "# Another way to create dictionary\n",
    "\n",
    "user2 = dict(name='Azad')\n",
    "print(user2)"
   ]
  },
  {
   "cell_type": "markdown",
   "metadata": {},
   "source": [
    " # Dictionary Methods"
   ]
  },
  {
   "cell_type": "code",
   "execution_count": 9,
   "metadata": {
    "scrolled": true
   },
   "outputs": [
    {
     "name": "stdout",
     "output_type": "stream",
     "text": [
      "True\n",
      "False\n"
     ]
    }
   ],
   "source": [
    "user={\n",
    "    'basket':[1,2,3],\n",
    "    'greting':'hello',\n",
    "    'age':20\n",
    "}\n",
    "\n",
    "print('basket' in user)\n",
    "\n",
    "print('size' in user)"
   ]
  },
  {
   "cell_type": "code",
   "execution_count": 17,
   "metadata": {
    "scrolled": true
   },
   "outputs": [
    {
     "name": "stdout",
     "output_type": "stream",
     "text": [
      "True\n",
      "True\n",
      "dict_items([('basket', [1, 2, 3]), ('greting', 'hello'), ('age', 20)])\n",
      "{'basket': [1, 2, 3], 'greting': 'hello', 'age': 20}\n",
      "None\n"
     ]
    }
   ],
   "source": [
    "user={\n",
    "    'basket':[1,2,3],\n",
    "    'greting':'hello',\n",
    "    'age':20\n",
    "}\n",
    "\n",
    "print('basket' in user.keys())\n",
    "\n",
    "print('hello' in user.values())\n",
    "\n",
    "print(user.items())\n",
    "user2=user.copy()\n",
    "print(user2)\n",
    "print(user.clear())"
   ]
  },
  {
   "cell_type": "code",
   "execution_count": 23,
   "metadata": {
    "scrolled": true
   },
   "outputs": [
    {
     "name": "stdout",
     "output_type": "stream",
     "text": [
      "20\n",
      "('greting', 'hello')\n",
      "{'basket': [1, 2, 3]}\n"
     ]
    }
   ],
   "source": [
    "user={\n",
    "    'basket':[1,2,3],\n",
    "    'greting':'hello',\n",
    "    'age':20\n",
    "}\n",
    "age=user.pop('age') # pop method remove item by keyword\n",
    "\n",
    "print(age)\n",
    "\n",
    "print(user.popitem()) # popitem() remove item randomly\n",
    "\n",
    "print(user)"
   ]
  },
  {
   "cell_type": "code",
   "execution_count": 28,
   "metadata": {},
   "outputs": [
    {
     "name": "stdout",
     "output_type": "stream",
     "text": [
      "{'basket': [1, 2, 3], 'greting': 'hello', 'age': 55}\n",
      "{'basket': [1, 2, 3], 'greting': 'hello', 'age': 55, 'agessss': 55}\n"
     ]
    }
   ],
   "source": [
    "user2={\n",
    "    'basket':[1,2,3],\n",
    "    'greting':'hello',\n",
    "    'age':20\n",
    "}\n",
    "\n",
    "user2.update({'age': 55})\n",
    "print(user2)\n",
    "\n",
    "user2.update({'agessss': 55}) # if in dictionary don't have this items then it will be created.\n",
    "print(user2)"
   ]
  }
 ],
 "metadata": {
  "kernelspec": {
   "display_name": "Python 3",
   "language": "python",
   "name": "python3"
  },
  "language_info": {
   "codemirror_mode": {
    "name": "ipython",
    "version": 3
   },
   "file_extension": ".py",
   "mimetype": "text/x-python",
   "name": "python",
   "nbconvert_exporter": "python",
   "pygments_lexer": "ipython3",
   "version": "3.7.3"
  }
 },
 "nbformat": 4,
 "nbformat_minor": 2
}
